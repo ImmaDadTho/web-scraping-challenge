{
 "cells": [
  {
   "cell_type": "code",
   "execution_count": 3,
   "id": "7b9e8f5f",
   "metadata": {},
   "outputs": [],
   "source": [
    "# imports needed \n",
    "from splinter import Browser\n",
    "import pandas as pd\n",
    "from webdriver_manager.chrome import ChromeDriverManager\n",
    "from bs4 import BeautifulSoup as soup"
   ]
  },
  {
   "cell_type": "code",
   "execution_count": 4,
   "id": "d2d649bd",
   "metadata": {},
   "outputs": [],
   "source": [
    "# setting up to control  chrome\n",
    "executable_path = {'executable_path': ChromeDriverManager().install()}\n",
    "browser = Browser('chrome', **executable_path, headless=False)"
   ]
  },
  {
   "cell_type": "code",
   "execution_count": 5,
   "id": "641c3384",
   "metadata": {},
   "outputs": [
    {
     "data": {
      "text/plain": [
       "True"
      ]
     },
     "execution_count": 5,
     "metadata": {},
     "output_type": "execute_result"
    }
   ],
   "source": [
    "# syntax used to visit the mars site \n",
    "url = 'https://redplanetscience.com/'\n",
    "browser.visit(url)\n",
    "\n",
    "#creates a delay to properly get data from scraping \n",
    "browser.is_element_present_by_css('div.list_text', wait_time=1.5)"
   ]
  },
  {
   "cell_type": "code",
   "execution_count": 17,
   "id": "bb7a14e0",
   "metadata": {
    "scrolled": true
   },
   "outputs": [],
   "source": [
    "souphtml = browser.html\n",
    "marsnewssoup = soup(souphtml, 'html.parser')\n",
    "\n",
    "sections = marsnewssoup.select_one('div.list_text')\n",
    "\n",
    "#print html to locate texts needed copied and pasted into visual studio code\n",
    "#print(marsnewssoup.prettify())"
   ]
  },
  {
   "cell_type": "code",
   "execution_count": 9,
   "id": "afb65cbc",
   "metadata": {},
   "outputs": [
    {
     "data": {
      "text/plain": [
       "<div class=\"content_title\">6 Things to Know About NASA's Ingenuity Mars Helicopter</div>"
      ]
     },
     "execution_count": 9,
     "metadata": {},
     "output_type": "execute_result"
    }
   ],
   "source": [
    "# display currrent title content\n",
    "sections.find('div', class_='content_title')"
   ]
  },
  {
   "cell_type": "code",
   "execution_count": 16,
   "id": "031a1ae3",
   "metadata": {},
   "outputs": [
    {
     "data": {
      "text/plain": [
       "\"6 Things to Know About NASA's Ingenuity Mars Helicopter\""
      ]
     },
     "execution_count": 16,
     "metadata": {},
     "output_type": "execute_result"
    }
   ],
   "source": [
    "# save title as news_title\n",
    "news_title = sections.find('div', class_='content_title').get_text()\n",
    "news_title"
   ]
  },
  {
   "cell_type": "code",
   "execution_count": 19,
   "id": "459423e4",
   "metadata": {},
   "outputs": [
    {
     "data": {
      "text/plain": [
       "'The first helicopter attempting to fly on another planet is a marvel of engineering. Get up to speed with these key facts about its plans.'"
      ]
     },
     "execution_count": 19,
     "metadata": {},
     "output_type": "execute_result"
    }
   ],
   "source": [
    "news_p = sections.find('div', class_=\"article_teaser_body\").get_text()\n",
    "news_p"
   ]
  },
  {
   "cell_type": "code",
   "execution_count": null,
   "id": "a1d1c2d6",
   "metadata": {},
   "outputs": [],
   "source": [
    "# syntax used to visit site \n",
    "url = 'https://spaceimages-mars.com/'\n",
    "browser.visit(url)\n",
    "\n",
    "#creates a delay to properly get data from scraping \n",
    "browser.is_element_present_by_css('div.list_text', wait_time=1.5)"
   ]
  },
  {
   "cell_type": "code",
   "execution_count": null,
   "id": "04e08888",
   "metadata": {},
   "outputs": [],
   "source": [
    "souphtml = browser.html\n",
    "marsnewssoup = soup(souphtml, 'html.parser')\n",
    "\n",
    "sections = marsnewssoup.select_one('div.list_text')\n",
    "\n",
    "#print html to locate texts needed copied and pasted into visual studio code\n",
    "#print(marsnewssoup.prettify())"
   ]
  }
 ],
 "metadata": {
  "kernelspec": {
   "display_name": "Python 3 (ipykernel)",
   "language": "python",
   "name": "python3"
  },
  "language_info": {
   "codemirror_mode": {
    "name": "ipython",
    "version": 3
   },
   "file_extension": ".py",
   "mimetype": "text/x-python",
   "name": "python",
   "nbconvert_exporter": "python",
   "pygments_lexer": "ipython3",
   "version": "3.9.12"
  }
 },
 "nbformat": 4,
 "nbformat_minor": 5
}
